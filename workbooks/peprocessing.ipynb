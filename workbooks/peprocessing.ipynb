{
 "cells": [
  {
   "cell_type": "code",
   "execution_count": 1,
   "metadata": {},
   "outputs": [],
   "source": [
    "# workbook for preprocessing raw data to be read by cobrapy, for reproducibility.\n",
    "import numpy as np\n",
    "import pandas as pd"
   ]
  },
  {
   "cell_type": "code",
   "execution_count": 2,
   "metadata": {},
   "outputs": [],
   "source": [
    "fn_in = \"/Users/don/Documents/mlardelli/data/zebragem_2_0_updated_20200228.xml\"\n",
    "with open(fn_in, \"r\") as f:\n",
    "    contents = f.read()"
   ]
  },
  {
   "cell_type": "code",
   "execution_count": 3,
   "metadata": {},
   "outputs": [],
   "source": [
    "contents2 = contents.replace(\"urn:miriam:kegg.reaction:\", \"https://identifiers.org/kegg.reaction/\")\n",
    "contents2 = contents2.replace(\"urn:miriam:ec-code:\", \"http://identifiers.org/ec-code/\")\n",
    "\n",
    "contents2 = contents2.replace(\"urn:miriam:kegg.compound:C00001\", \"http://identifiers.org/kegg.compound/C00001\")\n",
    "contents2 = contents2.replace(\"urn:miriam:chemspider:937\", \"http://identifiers.org/chemspider/937\")"
   ]
  },
  {
   "cell_type": "code",
   "execution_count": 4,
   "metadata": {},
   "outputs": [],
   "source": [
    "fn = \"/Users/don/Documents/mlardelli/data/zebragem_20200228_mod.xml\"\n",
    "with open(fn, \"w\") as f:\n",
    "    f.write(contents2)"
   ]
  },
  {
   "cell_type": "code",
   "execution_count": null,
   "metadata": {},
   "outputs": [],
   "source": []
  }
 ],
 "metadata": {
  "kernelspec": {
   "display_name": "Python 3",
   "language": "python",
   "name": "python3"
  },
  "language_info": {
   "codemirror_mode": {
    "name": "ipython",
    "version": 3
   },
   "file_extension": ".py",
   "mimetype": "text/x-python",
   "name": "python",
   "nbconvert_exporter": "python",
   "pygments_lexer": "ipython3",
   "version": "3.7.4"
  }
 },
 "nbformat": 4,
 "nbformat_minor": 4
}
