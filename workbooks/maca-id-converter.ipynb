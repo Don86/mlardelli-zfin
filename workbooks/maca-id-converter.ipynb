{
 "cells": [
  {
   "cell_type": "code",
   "execution_count": 1,
   "metadata": {},
   "outputs": [],
   "source": [
    "import numpy as np\n",
    "import pandas as pd\n",
    "\n",
    "import requests\n",
    "import json"
   ]
  },
  {
   "cell_type": "code",
   "execution_count": null,
   "metadata": {},
   "outputs": [],
   "source": [
    "d0 = pd.read_csv(\"/Users/don/Documents/mlardelli/data/20191113_MLardelli_MNewman_Finalsamples_Q96vsWT_KimK_metaboanalyst_lessthan30pcCV_in.csv\")\n",
    "metabs_ls = list(d0.columns[2:])"
   ]
  },
  {
   "cell_type": "code",
   "execution_count": null,
   "metadata": {},
   "outputs": [],
   "source": [
    "url = \"http://api.xialab.ca/mapcompounds\"\n",
    "metab_str = \";\".join(metabs_ls)\n",
    "payload = '{\\n\\t\\\"queryList\\\": \\\"'+metab_str+';\\\",\\n\\t\\\"inputType\\\": \\\"name\\\"\\n}'\n",
    "headers = {\n",
    "    'Content-Type': \"application/json\",\n",
    "    'cache-control': \"no-cache\",\n",
    "    }\n",
    "\n",
    "response = requests.request(\"POST\", url, data=payload, headers=headers)\n",
    "response_dict = json.loads(response.text)"
   ]
  },
  {
   "cell_type": "code",
   "execution_count": null,
   "metadata": {},
   "outputs": [],
   "source": [
    "contents = []\n",
    "for r_dict in response_dict:\n",
    "    hit = r_dict[\"hit\"]\n",
    "    kegg_id = r_dict[\"kegg_id\"]\n",
    "    hmdb_id = r_dict[\"hmdb_id\"]\n",
    "    if hit == \"\":\n",
    "        hit = \"undef\"\n",
    "    if kegg_id == \"-\":\n",
    "        kegg_id = \"undef\"\n",
    "    if hmdb_id == \"-\":\n",
    "        hmdb_id = \"undef\"\n",
    "        \n",
    "    contents.append([r_dict[\"query\"], hit, hmdb_id, kegg_id])\n",
    "\n",
    "d1 = pd.DataFrame(data=contents, columns=['query', 'hit', \"hmdb_id\", 'kegg_id'])"
   ]
  },
  {
   "cell_type": "code",
   "execution_count": null,
   "metadata": {},
   "outputs": [],
   "source": [
    "d1.to_csv(\"/Users/don/Documents/mlardelli/data/metab_ids.csv\", index=False)"
   ]
  },
  {
   "cell_type": "code",
   "execution_count": 9,
   "metadata": {},
   "outputs": [
    {
     "data": {
      "text/html": [
       "<div>\n",
       "<style scoped>\n",
       "    .dataframe tbody tr th:only-of-type {\n",
       "        vertical-align: middle;\n",
       "    }\n",
       "\n",
       "    .dataframe tbody tr th {\n",
       "        vertical-align: top;\n",
       "    }\n",
       "\n",
       "    .dataframe thead th {\n",
       "        text-align: right;\n",
       "    }\n",
       "</style>\n",
       "<table border=\"1\" class=\"dataframe\">\n",
       "  <thead>\n",
       "    <tr style=\"text-align: right;\">\n",
       "      <th></th>\n",
       "      <th>val0</th>\n",
       "      <th>val1</th>\n",
       "      <th>val2</th>\n",
       "      <th>val3</th>\n",
       "    </tr>\n",
       "  </thead>\n",
       "  <tbody>\n",
       "    <tr>\n",
       "      <th>0</th>\n",
       "      <td>0</td>\n",
       "      <td>1</td>\n",
       "      <td>2</td>\n",
       "      <td>3</td>\n",
       "    </tr>\n",
       "    <tr>\n",
       "      <th>1</th>\n",
       "      <td>4</td>\n",
       "      <td>5</td>\n",
       "      <td>6</td>\n",
       "      <td>7</td>\n",
       "    </tr>\n",
       "    <tr>\n",
       "      <th>2</th>\n",
       "      <td>8</td>\n",
       "      <td>9</td>\n",
       "      <td>10</td>\n",
       "      <td>11</td>\n",
       "    </tr>\n",
       "  </tbody>\n",
       "</table>\n",
       "</div>"
      ],
      "text/plain": [
       "   val0  val1  val2  val3\n",
       "0     0     1     2     3\n",
       "1     4     5     6     7\n",
       "2     8     9    10    11"
      ]
     },
     "execution_count": 9,
     "metadata": {},
     "output_type": "execute_result"
    }
   ],
   "source": [
    "# mock up a dataframe\n",
    "contents = np.arange(12).reshape(3, 4)\n",
    "df = pd.DataFrame(data=contents, columns=[\"val\"+str(i) for i in np.arange(4)])\n",
    "df"
   ]
  },
  {
   "cell_type": "code",
   "execution_count": 10,
   "metadata": {},
   "outputs": [
    {
     "data": {
      "text/plain": [
       "val0    4.0\n",
       "val1    5.0\n",
       "val2    6.0\n",
       "val3    7.0\n",
       "dtype: float64"
      ]
     },
     "execution_count": 10,
     "metadata": {},
     "output_type": "execute_result"
    }
   ],
   "source": [
    "df.apply(np.average, axis=0)"
   ]
  },
  {
   "cell_type": "code",
   "execution_count": null,
   "metadata": {},
   "outputs": [],
   "source": []
  }
 ],
 "metadata": {
  "kernelspec": {
   "display_name": "Python 3",
   "language": "python",
   "name": "python3"
  },
  "language_info": {
   "codemirror_mode": {
    "name": "ipython",
    "version": 3
   },
   "file_extension": ".py",
   "mimetype": "text/x-python",
   "name": "python",
   "nbconvert_exporter": "python",
   "pygments_lexer": "ipython3",
   "version": "3.7.4"
  }
 },
 "nbformat": 4,
 "nbformat_minor": 4
}
