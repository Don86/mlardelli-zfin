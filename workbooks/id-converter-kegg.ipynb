{
 "cells": [
  {
   "cell_type": "code",
   "execution_count": null,
   "metadata": {},
   "outputs": [],
   "source": [
    "import numpy as np\n",
    "import pandas as pd\n",
    "import requests\n",
    "\n",
    "from bs4 import BeautifulSoup\n",
    "import time"
   ]
  },
  {
   "cell_type": "code",
   "execution_count": null,
   "metadata": {},
   "outputs": [],
   "source": [
    "d_g = pd.read_csv(\"/Users/don/Documents/mlardelli/data/zebragem2_genes.csv\")\n",
    "ncbi_id_ls = [str(x) for x in list(d_g[\"ncbi_id\"])]\n",
    "print(len(ncbi_id_ls))"
   ]
  },
  {
   "cell_type": "code",
   "execution_count": null,
   "metadata": {},
   "outputs": [],
   "source": [
    "# Takes ~27 mins\n",
    "t0 = time.time()\n",
    "\n",
    "base_url = \"http://rest.kegg.jp/get/dre:\"\n",
    "\n",
    "contents2 = []\n",
    "for ncbi_id in ncbi_id_ls:\n",
    "    url = \"http://rest.kegg.jp/get/dre:\" + ncbi_id\n",
    "    r = requests.get(url)\n",
    "    contents = r.text.split(\"\\n\")\n",
    "\n",
    "    ensembl_id=\"\"; kegg_name=\"\" #init\n",
    "    for ln in contents:\n",
    "        if \"Ensembl\" in ln:\n",
    "            ensembl_id = ln.split(\": \")[-1]\n",
    "        if \"NAME\" in ln:\n",
    "            new_ln = ':'.join(ln.split())\n",
    "            kegg_name = \":\".join(new_ln.split(\":\")[1:])\n",
    "            \n",
    "    contents2.append([ncbi_id, kegg_name, ensembl_id])\n",
    "    time.sleep(0.2)\n",
    "\n",
    "print(\"Done in %.2fs\" % (time.time() - t0))"
   ]
  },
  {
   "cell_type": "code",
   "execution_count": null,
   "metadata": {},
   "outputs": [],
   "source": [
    "id_df = pd.DataFrame(data=contents2, columns=[\"ncbi_id\", \"gene_name\", \"ensembl_id\"])"
   ]
  },
  {
   "cell_type": "code",
   "execution_count": null,
   "metadata": {},
   "outputs": [],
   "source": [
    "d_t = id_df.loc[id_df]"
   ]
  },
  {
   "cell_type": "code",
   "execution_count": null,
   "metadata": {},
   "outputs": [],
   "source": []
  }
 ],
 "metadata": {
  "kernelspec": {
   "display_name": "Python 3",
   "language": "python",
   "name": "python3"
  },
  "language_info": {
   "codemirror_mode": {
    "name": "ipython",
    "version": 3
   },
   "file_extension": ".py",
   "mimetype": "text/x-python",
   "name": "python",
   "nbconvert_exporter": "python",
   "pygments_lexer": "ipython3",
   "version": "3.7.4"
  }
 },
 "nbformat": 4,
 "nbformat_minor": 4
}
