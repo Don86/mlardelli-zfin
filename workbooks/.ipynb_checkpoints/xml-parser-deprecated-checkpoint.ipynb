{
 "cells": [
  {
   "cell_type": "code",
   "execution_count": 1,
   "metadata": {},
   "outputs": [],
   "source": [
    "import numpy as np\n",
    "import pandas as pd\n",
    "import requests\n",
    "from bs4 import BeautifulSoup\n"
   ]
  },
  {
   "cell_type": "code",
   "execution_count": 2,
   "metadata": {},
   "outputs": [],
   "source": [
    "infile = open(\"/Users/don/Documents/mlardelli/data/supp_data_mod2.xml\",\"r\")\n",
    "contents = infile.read()\n",
    "soup = BeautifulSoup(contents,'lxml')\n",
    "rdfli_ls = soup.find_all('rdf:li')\n",
    "#rdf_attr_ls = [x[\"rdf:resource\"] for x in rdfli_ls]"
   ]
  },
  {
   "cell_type": "code",
   "execution_count": 6,
   "metadata": {},
   "outputs": [],
   "source": [
    "for rdf_tag in rdfli_ls:\n",
    "    if \"urn:miriam:kegg.reaction\" in rdf_tag[\"rdf:resource\"]:\n",
    "        rxn_num = rdf_tag[\"rdf:resource\"].split(\":\")[-1]\n",
    "        #print(rxn_num)\n",
    "        # override\n",
    "        rdf_tag[\"rdf:resource\"] = \"http://identifiers.org/kegg.reaction/\" + rxn_num\n",
    "        \n",
    "    if \"urn:miriam:ec-code\" in rdf_tag[\"rdf:resource\"]:\n",
    "        ec_code_num = rdf_tag[\"rdf:resource\"].split(\":\")[-1]\n",
    "        rdf_tag[\"rdf:resource\"] = \"http://identifiers.org/ec-code/\" + ec_code_num\n"
   ]
  },
  {
   "cell_type": "code",
   "execution_count": 9,
   "metadata": {},
   "outputs": [],
   "source": [
    "with open(\"/Users/don/Documents/mlardelli/data/supp_data_mod3.xml\", \"w\") as f:\n",
    "    f.write(soup.prettify())\n"
   ]
  },
  {
   "cell_type": "code",
   "execution_count": null,
   "metadata": {},
   "outputs": [],
   "source": []
  }
 ],
 "metadata": {
  "kernelspec": {
   "display_name": "Python 3",
   "language": "python",
   "name": "python3"
  },
  "language_info": {
   "codemirror_mode": {
    "name": "ipython",
    "version": 3
   },
   "file_extension": ".py",
   "mimetype": "text/x-python",
   "name": "python",
   "nbconvert_exporter": "python",
   "pygments_lexer": "ipython3",
   "version": "3.7.4"
  }
 },
 "nbformat": 4,
 "nbformat_minor": 4
}
