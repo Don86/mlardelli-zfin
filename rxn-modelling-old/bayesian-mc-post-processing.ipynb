{
 "cells": [
  {
   "cell_type": "markdown",
   "metadata": {},
   "source": [
    "# Simulation Post-Processing\n",
    "\n",
    "With `dask`!"
   ]
  },
  {
   "cell_type": "code",
   "execution_count": 1,
   "metadata": {},
   "outputs": [
    {
     "name": "stderr",
     "output_type": "stream",
     "text": [
      "/Users/don/anaconda3/lib/python3.7/site-packages/dask/dataframe/utils.py:14: FutureWarning: pandas.util.testing is deprecated. Use the functions in the public API at pandas.testing instead.\n",
      "  import pandas.util.testing as tm\n"
     ]
    }
   ],
   "source": [
    "%matplotlib inline\n",
    "import matplotlib.pyplot as plt\n",
    "\n",
    "import numpy as np\n",
    "import pandas as pd\n",
    "import dask.dataframe as dd\n",
    "import dask.array as da\n",
    "\n",
    "import time\n",
    "\n",
    "path0 = \"/Users/don/Documents/mlardelli\"\n",
    "\n",
    "def get_bounds(fn_in, colname, chunksize=100):\n",
    "    \"\"\"Get the min and max values of a particular column of a dataframe. \n",
    "    \n",
    "    PARAMS\n",
    "    ------\n",
    "    fn_in: str; file name of csv file\n",
    "    \n",
    "    RETURNS\n",
    "    -------\n",
    "    (min_val, max_val): tuple of floats; min and max values of colname in dataframe.\n",
    "    \"\"\"\n",
    "    min_val = 0.0\n",
    "    max_val = 0.0\n",
    "\n",
    "    for chunk in pd.read_csv(fn_in, chunksize=chunksize):\n",
    "        min_val = np.minimum(min(chunk[colname]), min_val)\n",
    "        max_val = np.maximum(max(chunk[colname]), max_val)\n",
    "    \n",
    "    return (min_val, max_val)"
   ]
  },
  {
   "cell_type": "code",
   "execution_count": 2,
   "metadata": {},
   "outputs": [],
   "source": [
    "dd0 = dd.read_csv(path0+\"/data/bayesian_mc_posterior_0.csv\")\n",
    "metabs_ls = list(dd0.columns)"
   ]
  },
  {
   "cell_type": "code",
   "execution_count": null,
   "metadata": {},
   "outputs": [],
   "source": [
    "dd0.BIO_L_2.max().compute()"
   ]
  },
  {
   "cell_type": "code",
   "execution_count": null,
   "metadata": {},
   "outputs": [],
   "source": []
  }
 ],
 "metadata": {
  "kernelspec": {
   "display_name": "Python 3",
   "language": "python",
   "name": "python3"
  },
  "language_info": {
   "codemirror_mode": {
    "name": "ipython",
    "version": 3
   },
   "file_extension": ".py",
   "mimetype": "text/x-python",
   "name": "python",
   "nbconvert_exporter": "python",
   "pygments_lexer": "ipython3",
   "version": "3.7.4"
  }
 },
 "nbformat": 4,
 "nbformat_minor": 4
}
