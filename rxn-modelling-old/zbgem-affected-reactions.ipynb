{
 "cells": [
  {
   "cell_type": "code",
   "execution_count": 1,
   "metadata": {},
   "outputs": [],
   "source": [
    "import numpy as np\n",
    "import pandas as pd\n",
    "\n",
    "import cobra\n",
    "import cobra.test\n",
    "from cobra.test import create_test_model\n",
    "\n",
    "import cobrapy_func as cf"
   ]
  },
  {
   "cell_type": "code",
   "execution_count": 2,
   "metadata": {},
   "outputs": [
    {
     "name": "stdout",
     "output_type": "stream",
     "text": [
      "num reactions = 3023\n",
      "num metabs = 2810\n",
      "num genes = 1636\n",
      "num exchanges = 44\n",
      "\n",
      "Num. DE genes present in ZBGEM = 28\n",
      "28 reactions impacted by DE genes\n"
     ]
    }
   ],
   "source": [
    "# Load zbgem2 model\n",
    "fn_zgem2 = \"/Users/don/Documents/mlardelli/data/zebragem_20200228_mod.xml\"\n",
    "model = cobra.io.read_sbml_model(fn_zgem2)\n",
    "\n",
    "# Print stuff out\n",
    "print(f\"num reactions = {len(model.reactions)}\")\n",
    "print(f\"num metabs = {len(model.metabolites)}\")\n",
    "print(f\"num genes = {len(model.genes)}\")\n",
    "print(f\"num exchanges = {len(model.exchanges)}\")\n",
    "print(\"\")\n",
    "model.objective =\"BIO_L_2\"\n",
    "\n",
    "# Load DE genes\n",
    "d0 = pd.read_csv(\"/Users/don/Documents/mlardelli/data/de_genes.csv\")\n",
    "\n",
    "# For the genes in the DE list, get only those which are in ZBGEM\n",
    "zbgem_gene_ls = [g.id for g in model.genes]\n",
    "\n",
    "de_genes_ls = []\n",
    "for ncbi_id in list(d0[\"ncbi_id\"]):\n",
    "    if ncbi_id in zbgem_gene_ls:\n",
    "        de_genes_ls.append(ncbi_id)\n",
    "print(f\"Num. DE genes present in ZBGEM = {len(de_genes_ls)}\")\n",
    "\n",
    "de_df = d0.loc[d0[\"ncbi_id\"].isin(de_genes_ls)]\n",
    "\n",
    "# Get dict of reactions affected by DE genes, and a flat list\n",
    "rxn_dict = {}\n",
    "affected_rxn_ls = []\n",
    "for ncbi_id in de_genes_ls:\n",
    "    val_ls = [rxn.id for rxn in list(model.genes.get_by_id(ncbi_id).reactions)]\n",
    "    rxn_dict[ncbi_id] = val_ls\n",
    "    affected_rxn_ls.append(val_ls)\n",
    "\n",
    "affected_rxn_ls = list(set([item for sublist in affected_rxn_ls for item in sublist]))\n",
    "\n",
    "# Get affected reactions AFTER checking GPR, regardless of fold change direction\n",
    "affected_rxn_ls2 = []\n",
    "for rxn_id in affected_rxn_ls:\n",
    "    rxn = model.reactions.get_by_id(rxn_id)\n",
    "    gpr_str = rxn.gene_reaction_rule\n",
    "    \n",
    "    eval_bool = cf.eval_gpr(gpr_str, de_genes_ls)\n",
    "    if eval_bool:\n",
    "        affected_rxn_ls2.append(rxn_id)\n",
    "\n",
    "print(f\"{len(affected_rxn_ls2)} reactions impacted by DE genes\")"
   ]
  },
  {
   "cell_type": "markdown",
   "metadata": {},
   "source": [
    "# Mark1 Eyeball\n",
    "\n",
    "See which genes affect which reactions."
   ]
  },
  {
   "cell_type": "code",
   "execution_count": 3,
   "metadata": {},
   "outputs": [],
   "source": [
    "gene_rxn_dict = {}\n",
    "for ncbi_id in de_genes_ls:\n",
    "    rxn_ls = [x.id for x in list(model.genes.get_by_id(ncbi_id).reactions)]\n",
    "    \n",
    "    # filter only for definitely affected reactions\n",
    "    temp_ls = []\n",
    "    for rxn_id in rxn_ls:\n",
    "        if rxn_id in affected_rxn_ls2:\n",
    "            temp_ls.append(rxn_id)\n",
    "    gene_rxn_dict[ncbi_id] = temp_ls"
   ]
  },
  {
   "cell_type": "code",
   "execution_count": 4,
   "metadata": {},
   "outputs": [
    {
     "name": "stdout",
     "output_type": "stream",
     "text": [
      "### si:ch211-114l13.7 (567859, 1)\n",
      "\n",
      "* UDPgalactose:procollagen-5-hydroxy-L-lysine D-galactosyltransferase [endoplasmic reticulum](**R1351_r**): pcollg5hlys_r + udpgal_r <=> C04487_r + udp_r\n",
      "\n",
      "### dlst (368262, -1)\n",
      "\n",
      "* 2-oxoadipate dehydrogenase complex [mitochondria](**2OXOADOXm**): 2oxoadp_m + coa_m + nad_m --> co2_m + glutcoa_m + h_m + nadh_m\n",
      "* 2-Oxoglutarate dehydrogenase complex [mitochondria](**AKGDm**): akg_m + coa_m + nad_m --> co2_m + h_m + nadh_m + succoa_m\n",
      "* succinyl-CoA:enzyme N6-(dihydrolipoyl)lysine S-succinyltransferase [mitochondria](**R1174_m**): dhlam_m + succoa_m <=> C16254_m + coa_m\n",
      "* Glutaryl-CoA:dihydrolipoamide S-succinyltransferase [mitochondria](**R1175_m**): S_gtrdhdlp_m + coa_m --> dhlam_m + glutcoa_m\n",
      "\n",
      "### atp5g1 (406301, -1)\n",
      "\n",
      "\n",
      "### chst12a (407076, -1)\n",
      "\n",
      "* 3'-Phosphoadenylylsulfate:chondroitin 4'-sulfotransferase [Golgi membrane](**R1047_g**): C00401_g + paps_g <=> cs_a_g + pap_g\n",
      "\n",
      "### sdhdb (445500, -1)\n",
      "\n",
      "\n",
      "### abcc5 (336147, -1)\n",
      "\n",
      "* cGMP transport (ATP-dependent)(**CGMPt**): 35cgmp_c + atp_c + h2o_c --> 35cgmp_e + adp_c + h_c + pi_c\n",
      "* cAMP transport (ATP-dependent)(**CAMPt**): atp_c + camp_c + h2o_c --> adp_c + camp_e + h_c + pi_c\n",
      "\n",
      "### pomt2 (563878, -1)\n",
      "\n",
      "* [endoplasmic reticulum membrane](**R2127_r**): dolmanp_mem + pepser_r <=> G13027_r + dolp_r\n",
      "\n",
      "### atp6v0a2a (561469, -1)\n",
      "\n",
      "\n",
      "### inpp4ab (792527, -1)\n",
      "\n",
      "* 1-phosphatidyl-1D-myo-inositol-3,4-bisphosphate 4-phosphohydrolase [lysosomal membrane](**PI34P4Plm**): h2o_c + pail34p_mem <=> pail3p_mem + pi_c\n",
      "* D-myo-Inositol-3,4-bisphosphate 4-phosphohydrolase [cytosol](**MI34PP**): h2o_c + mi34p_c --> mi3p__D_c + pi_c\n",
      "\n",
      "### atp5b (554135, -1)\n",
      "\n",
      "\n",
      "### slc25a12 (337675, -1)\n",
      "\n",
      "* cysteinesulfinate-aspartate mitochondrial shuttle(**3SALAASPm**): 3sala_m + asp__L_c <=> 3sala_c + asp__L_m\n",
      "* aspartate-glutamate mitochondrial shuttle(**ASPGLUm**): asp__L_m + glu__L_c + h_c <=> asp__L_c + glu__L_m + h_m\n",
      "\n",
      "### slc25a5 (192321, -1)\n",
      "\n",
      "* ADP/ATP transporter, mitochondrial(**ATPtm**): adp_c + atp_m --> adp_m + atp_c\n",
      "\n",
      "### slc13a5a (503788, -1)\n",
      "\n",
      "* citrate transport via sodium symport(**CITt4_4**): cit_e + 4.0 na1_e <=> cit_c + 4.0 na1_c\n",
      "\n",
      "### atp5g3b (81541, -1)\n",
      "\n",
      "\n",
      "### mpi (613246, -1)\n",
      "\n",
      "* D-mannose-6-phosphate aldose-ketose-isomerase [cytosol](**MAN6PI**): man6p_c <=> f6p_B_c\n",
      "\n",
      "### nars2 (561673, -1)\n",
      "\n",
      "* L-Asparagine:tRNA(Asn) ligase (AMP-forming) [mitochondria](**ASNTRSm**): asn__L_m + atp_m + trnaasn_m --> amp_m + asntrna_m + ppi_m\n",
      "\n",
      "### atp6v0b (321724, -1)\n",
      "\n",
      "\n",
      "### acyp1 (571263, -1)\n",
      "\n",
      "* Acetyl phosphate phosphohydrolase [cytosol](**ACYP_2**): actp_c + h2o_c <=> ac_c + pi_c\n",
      "\n",
      "### atp6v0a1b (553691, -1)\n",
      "\n",
      "\n",
      "### slc9a7 (554532, -1)\n",
      "\n",
      "* sodium proton antiporter (H:NA is 1:1)(**NAt3_1g**): h_g + na1_c <=> h_c + na1_g\n",
      "\n",
      "### esd (550494, -1)\n",
      "\n",
      "* S-Formylglutathione hydralase(**SFGTH**): Sfglutth_c + h2o_c --> for_c + gthrd_c + h_c\n",
      "\n",
      "### entpd4 (436692, -1)\n",
      "\n",
      "* IDP phosphohydrolase [lysosomal membrane](**NDP10l**): h2o_l + idp_l --> imp_l + pi_l\n",
      "* GDP phosphohydrolase [lysosomal membrane](**NDP3l**): gdp_l + h2o_l --> gmp_l + pi_l\n",
      "* UDP phosphohydrolase [lysosomal membrane](**NDP7l**): h2o_l + udp_l --> h_l + pi_l + ump_l\n",
      "\n",
      "### uqcrfs1 (406359, -1)\n",
      "\n",
      "\n",
      "### gpat4 (678522, -1)\n",
      "\n",
      "* acyl-CoA:sn-glycerol-3-phosphate 1-O-acyltransferase [endoplasmic reticulum membrane](**G3PATrm**): acoa_c + glyc3p_c --> alpa_c + coa_c\n",
      "\n",
      "### ctps1a (322089, 1)\n",
      "\n",
      "* UTP:ammonia ligase (ADP-forming) [cytosol](**CTPS1**): atp_c + nh3_c + utp_c --> adp_c + ctp_c + pi_c\n",
      "* UTP:L-glutamine amido-ligase (ADP-forming) [cytosol](**CTPS2**): atp_c + gln__L_c + h2o_c + utp_c --> adp_c + ctp_c + glu__L_c + pi_c\n",
      "\n",
      "### nnt (406619, -1)\n",
      "\n",
      "* NADPH:NAD+ oxidoreductase [mitochondrial inner membrane](**R249_mc**): h_c + nad_m + nadph_m --> h_m + nadh_m + nadp_m\n",
      "\n",
      "### slc2a13b (559440, 1)\n",
      "\n",
      "* inositol transport in via proton symport(**INSTt2r**): h_e + inost_e <=> h_c + inost_c\n",
      "\n",
      "### atp5h (393675, -1)\n",
      "\n",
      "\n"
     ]
    }
   ],
   "source": [
    "for k in gene_rxn_dict.keys():\n",
    "    g = model.genes.get_by_id(k)\n",
    "    de_direction = de_df.loc[de_df[\"ncbi_id\"]==k][\"DE_Direction\"].values[0]\n",
    "    print(f\"### {g.name} ({g.id}, {de_direction})\")\n",
    "    print(\"\")\n",
    "    temp_rxn_ls = [model.reactions.get_by_id(rxn_id) for rxn_id in gene_rxn_dict[k]]\n",
    "    for rxn in temp_rxn_ls:\n",
    "        print(f\"* {rxn.name}(**{rxn.id}**): {rxn.reaction}\")\n",
    "    \n",
    "    print(\"\")"
   ]
  },
  {
   "cell_type": "markdown",
   "metadata": {},
   "source": [
    "# Scrape for KEGG Data"
   ]
  },
  {
   "cell_type": "code",
   "execution_count": null,
   "metadata": {},
   "outputs": [],
   "source": [
    "for rxn_id in affected_rxn_ls2:\n",
    "    rxn = model.reactions.get_by_id(rxn_id)\n",
    "    kegg_r_id = rxn.annotation.get(\"kegg.reaction\")\n",
    "    if kegg_r_id is not None:\n",
    "        print(rxn_id, kegg_r_id)\n",
    "    else:\n",
    "        print(rxn_id)"
   ]
  },
  {
   "cell_type": "code",
   "execution_count": 13,
   "metadata": {},
   "outputs": [
    {
     "name": "stdout",
     "output_type": "stream",
     "text": [
      "CGMPt {}\n",
      "NAt3_1g {}\n",
      "INSTt2r {}\n",
      "AKGDm {'kegg.reaction': 'R08549', 'ec-code': ['2.3.1.61', '1.8.1.4', '1.2.4.2']}\n",
      "R1351_r {'kegg.reaction': 'R03380', 'ec-code': '2.4.1.50'}\n",
      "ACYP_2 {'kegg.reaction': 'R00317', 'ec-code': '3.6.1.7'}\n",
      "NDP10l {'kegg.reaction': 'R00961', 'ec-code': '3.6.1.6'}\n",
      "CTPS1 {'kegg.reaction': 'R00571', 'ec-code': '6.3.4.2'}\n",
      "ASNTRSm {'kegg.reaction': 'R03648', 'ec-code': '6.1.1.22'}\n",
      "ASPGLUm {}\n",
      "NDP3l {'kegg.reaction': 'R00328', 'ec-code': '3.6.1.6'}\n",
      "G3PATrm {'kegg.reaction': 'R00851', 'ec-code': '2.3.1.15'}\n",
      "ATPtm {}\n",
      "R1174_m {'kegg.reaction': 'R02570', 'ec-code': '2.3.1.61'}\n",
      "3SALAASPm {}\n",
      "MAN6PI {'kegg.reaction': 'R01819', 'ec-code': '5.3.1.8'}\n",
      "2OXOADOXm {'kegg.reaction': 'R01933', 'ec-code': ['2.3.1.61', '1.8.1.4', '1.2.4.2']}\n",
      "R2127_r {'kegg.reaction': 'R07620', 'ec-code': '2.4.1.109'}\n",
      "CITt4_4 {}\n",
      "CTPS2 {'kegg.reaction': 'R00573', 'ec-code': '6.3.4.2'}\n",
      "CAMPt {}\n",
      "PI34P4Plm {'kegg.reaction': 'R07299', 'ec-code': '3.1.3.66'}\n",
      "R249_mc {'kegg.reaction': 'R00112', 'ec-code': '1.6.1.2'}\n",
      "R1175_m {'kegg.reaction': 'R02571', 'ec-code': '2.3.1.61'}\n",
      "SFGTH {}\n",
      "MI34PP {'kegg.reaction': 'R04372', 'ec-code': '3.1.3.66'}\n",
      "NDP7l {'kegg.reaction': 'R00155', 'ec-code': '3.6.1.6'}\n",
      "R1047_g {'kegg.reaction': 'R02180', 'ec-code': '2.8.2.5'}\n"
     ]
    }
   ],
   "source": [
    "for rxn_id in affected_rxn_ls2:\n",
    "    rxn_annot = model.reactions.get_by_id(rxn_id).annotation\n",
    "    rxn_bigg_id = model.reactions.get_by_id(rxn_id).id\n",
    "    print(rxn_bigg_id, rxn_annot)"
   ]
  },
  {
   "cell_type": "code",
   "execution_count": 12,
   "metadata": {},
   "outputs": [
    {
     "data": {
      "text/plain": [
       "'AKGDm'"
      ]
     },
     "execution_count": 12,
     "metadata": {},
     "output_type": "execute_result"
    }
   ],
   "source": [
    "model.reactions.get_by_id(affected_rxn_ls2[3]).id"
   ]
  },
  {
   "cell_type": "code",
   "execution_count": null,
   "metadata": {},
   "outputs": [],
   "source": []
  }
 ],
 "metadata": {
  "kernelspec": {
   "display_name": "Python 3",
   "language": "python",
   "name": "python3"
  },
  "language_info": {
   "codemirror_mode": {
    "name": "ipython",
    "version": 3
   },
   "file_extension": ".py",
   "mimetype": "text/x-python",
   "name": "python",
   "nbconvert_exporter": "python",
   "pygments_lexer": "ipython3",
   "version": "3.7.4"
  }
 },
 "nbformat": 4,
 "nbformat_minor": 4
}
