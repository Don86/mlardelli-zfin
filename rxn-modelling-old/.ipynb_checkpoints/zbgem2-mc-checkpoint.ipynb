{
 "cells": [
  {
   "cell_type": "code",
   "execution_count": 1,
   "metadata": {},
   "outputs": [
    {
     "name": "stderr",
     "output_type": "stream",
     "text": [
      "/Users/don/anaconda3/lib/python3.7/site-packages/statsmodels/tools/_testing.py:19: FutureWarning: pandas.util.testing is deprecated. Use the functions in the public API at pandas.testing instead.\n",
      "  import pandas.util.testing as tm\n"
     ]
    }
   ],
   "source": [
    "%matplotlib inline\n",
    "import matplotlib.pyplot as plt\n",
    "import seaborn as sns\n",
    "import requests\n",
    "\n",
    "# why isn't jupyter automatically recognizing the activated environment?\n",
    "import sys\n",
    "sys.path.append(\"./venv/lib/python3.7/site-packages\")\n",
    "\n",
    "import cobra\n",
    "import cobra.test\n",
    "from cobra.test import create_test_model\n",
    "from cobra.util.solver import linear_reaction_coefficients\n",
    "from cobra.flux_analysis import flux_variability_analysis\n",
    "\n",
    "import numpy as np\n",
    "import pandas as pd\n",
    "import os\n",
    "import re\n",
    "from functools import reduce\n",
    "import itertools\n",
    "import time\n",
    "from tqdm import tqdm\n",
    "import pickle\n",
    "\n",
    "import cobrapy_func as cf\n",
    "\n",
    "\n",
    "def get_subsets(S, m):\n",
    "    return [list(x) for x in list(set(itertools.combinations(S, m)))]"
   ]
  },
  {
   "cell_type": "code",
   "execution_count": 2,
   "metadata": {},
   "outputs": [
    {
     "name": "stdout",
     "output_type": "stream",
     "text": [
      "Loaded SBML file in 4.44s\n",
      "num reactions = 3023\n",
      "num metabs = 2810\n",
      "num genes = 1636\n",
      "num exchanges = 44\n",
      "\n",
      "Num. DE genes present in ZBGEM = 28\n",
      "28 reactions impacted by DE genes\n"
     ]
    }
   ],
   "source": [
    "# Load zbgem2 model\n",
    "t0 = time.time()\n",
    "fn_zgem2 = \"/Users/don/Documents/mlardelli/data/zebragem_20200228_mod.xml\"\n",
    "model = cobra.io.read_sbml_model(fn_zgem2)\n",
    "print(\"Loaded SBML file in %.2fs\" % (time.time() - t0))\n",
    "\n",
    "# Print stuff out\n",
    "print(f\"num reactions = {len(model.reactions)}\")\n",
    "print(f\"num metabs = {len(model.metabolites)}\")\n",
    "print(f\"num genes = {len(model.genes)}\")\n",
    "print(f\"num exchanges = {len(model.exchanges)}\")\n",
    "print(\"\")\n",
    "model.objective =\"BIO_L_2\"\n",
    "\n",
    "# Load DE genes\n",
    "d0 = pd.read_csv(\"/Users/don/Documents/mlardelli/data/de_genes.csv\")\n",
    "\n",
    "# For the genes in the DE list, get only those which are in ZBGEM\n",
    "zbgem_gene_ls = [g.id for g in model.genes]\n",
    "\n",
    "de_genes_ls = []\n",
    "for ncbi_id in list(d0[\"ncbi_id\"]):\n",
    "    if ncbi_id in zbgem_gene_ls:\n",
    "        de_genes_ls.append(ncbi_id)\n",
    "print(f\"Num. DE genes present in ZBGEM = {len(de_genes_ls)}\")\n",
    "\n",
    "de_df = d0.loc[d0[\"ncbi_id\"].isin(de_genes_ls)]\n",
    "\n",
    "# Get dict of reactions affected by DE genes, and a flat list\n",
    "rxn_dict = {}\n",
    "affected_rxn_ls = []\n",
    "for ncbi_id in de_genes_ls:\n",
    "    val_ls = [rxn.id for rxn in list(model.genes.get_by_id(ncbi_id).reactions)]\n",
    "    rxn_dict[ncbi_id] = val_ls\n",
    "    affected_rxn_ls.append(val_ls)\n",
    "\n",
    "affected_rxn_ls = list(set([item for sublist in affected_rxn_ls for item in sublist]))\n",
    "\n",
    "# Get affected reactions AFTER checking GPR, regardless of fold change direction\n",
    "affected_rxn_ls2 = []\n",
    "for rxn_id in affected_rxn_ls:\n",
    "    rxn = model.reactions.get_by_id(rxn_id)\n",
    "    gpr_str = rxn.gene_reaction_rule\n",
    "    \n",
    "    eval_bool = cf.eval_gpr(gpr_str, de_genes_ls)\n",
    "    if eval_bool:\n",
    "        affected_rxn_ls2.append(rxn_id)\n",
    "\n",
    "print(f\"{len(affected_rxn_ls2)} reactions impacted by DE genes\")"
   ]
  },
  {
   "cell_type": "code",
   "execution_count": 3,
   "metadata": {},
   "outputs": [
    {
     "name": "stdout",
     "output_type": "stream",
     "text": [
      "ACYP_2|R00317|3.6.1.7|(-1000.0, 1000.0): 571263(-1), \n",
      "R1351_r|R03380|2.4.1.50|(-1000.0, 1000.0): 567859(1), 100003546(0), \n",
      "NDP7l|R00155|3.6.1.6|(0.0, 1000.0): 436692(-1), \n",
      "NDP3l|R00328|3.6.1.6|(0.0, 1000.0): 436692(-1), \n",
      "R1174_m|R02570|2.3.1.61|(-1000.0, 1000.0): 368262(-1), \n",
      "NAt3_1g|None|None|(-1000.0, 1000.0): 554532(-1), 494043(0), \n",
      "SFGTH|None|None|(0.0, 1000.0): 550494(-1), \n",
      "R1047_g|R02180|2.8.2.5|(-1000.0, 1000.0): 407076(-1), 565671(0), 404232(0), \n",
      "ASPGLUm|None|None|(-1000.0, 1000.0): 337675(-1), \n",
      "NDP10l|R00961|3.6.1.6|(0.0, 1000.0): 436692(-1), \n",
      "CTPS1|R00571|6.3.4.2|(0.0, 1000.0): 322089(1), \n",
      "R249_mc|R00112|1.6.1.2|(0.0, 1000.0): 406619(-1), \n",
      "CAMPt|None|None|(0.0, 1000.0): 368620(0), 336147(-1), \n",
      "ASNTRSm|R03648|6.1.1.22|(0.0, 1000.0): 561673(-1), \n",
      "R2127_r|R07620|2.4.1.109|(-1000.0, 1000.0): 569769(0), 563878(-1), \n",
      "G3PATrm|R00851|2.3.1.15|(0.0, 1000.0): 567414(0), 436958(0), 678522(-1), \n",
      "2OXOADOXm|R01933|['2.3.1.61', '1.8.1.4', '1.2.4.2']|(0.0, 1000.0): 399479(0), 559207(0), 368262(-1), 797715(0), 564552(0), \n",
      "ATPtm|None|None|(0.0, 1000.0): 192321(-1), 327067(0), 566370(0), \n",
      "INSTt2r|None|None|(-1000.0, 1000.0): 559440(1), \n",
      "MAN6PI|R01819|5.3.1.8|(-1000.0, 1000.0): 613246(-1), \n",
      "3SALAASPm|None|None|(-1000.0, 1000.0): 337675(-1), \n",
      "CTPS2|R00573|6.3.4.2|(0.0, 1000.0): 322089(1), \n",
      "PI34P4Plm|R07299|3.1.3.66|(-1000.0, 1000.0): 792527(-1), \n",
      "CITt4_4|None|None|(-1000.0, 1000.0): 503788(-1), \n",
      "R1175_m|R02571|2.3.1.61|(0.0, 1000.0): 368262(-1), \n",
      "AKGDm|R08549|['2.3.1.61', '1.8.1.4', '1.2.4.2']|(0.0, 1000.0): 399479(0), 559207(0), 368262(-1), 797715(0), 564552(0), \n",
      "MI34PP|R04372|3.1.3.66|(0.0, 1000.0): 560006(0), 792527(-1), \n",
      "CGMPt|None|None|(0.0, 1000.0): 368620(0), 336147(-1), \n"
     ]
    }
   ],
   "source": [
    "# See all affected reactions and their GPRs\n",
    "for r_id in affected_rxn_ls2:\n",
    "    rxn = model.reactions.get_by_id(r_id)\n",
    "    kegg_reaction_id = rxn.annotation.get(\"kegg.reaction\")\n",
    "    kegg_ec_id = rxn.annotation.get(\"ec-code\")\n",
    "    bounds = rxn.bounds\n",
    "    \n",
    "    printout_ln = f\"{r_id}|{kegg_reaction_id}|{kegg_ec_id}|{bounds}: \"\n",
    "    ncbi_ls = [g.id for g in rxn.genes]\n",
    "    for ncbi_id in ncbi_ls:\n",
    "        fc_direction_arr = d0.loc[d0[\"ncbi_id\"]==ncbi_id].DE_Direction.values\n",
    "        fc_dir_val = 0\n",
    "        if len(fc_direction_arr) > 1:\n",
    "            print(f\"WARNING: Multiple entries found for NCBI Id:{ncbi_id}\")\n",
    "        elif len(fc_direction_arr) >= 1:\n",
    "            fc_dir_val = fc_direction_arr[0]\n",
    "        \n",
    "        printout_ln += f\"{ncbi_id}({str(fc_dir_val)}), \"\n",
    "    \n",
    "    print(printout_ln)"
   ]
  },
  {
   "cell_type": "markdown",
   "metadata": {},
   "source": [
    "# Get Means of Priors by Running Unconstrained Model"
   ]
  },
  {
   "cell_type": "code",
   "execution_count": null,
   "metadata": {},
   "outputs": [],
   "source": [
    "model.objective =\"BIO_L_2\"\n",
    "soln = model.optimize()\n",
    "\n",
    "dv0 = soln.to_frame().reset_index().rename(columns={\"index\":\"rxn_id\"})\n",
    "\n",
    "# Put contents of dv0_dict into a dictionary for faster lookup\n",
    "dv0_dict = {}\n",
    "for rxn_id in list(dv0[\"rxn_id\"]):\n",
    "    dv0_dict[rxn_id] = dv0.loc[dv0[\"rxn_id\"]==rxn_id][\"fluxes\"].values[0]"
   ]
  },
  {
   "cell_type": "markdown",
   "metadata": {},
   "source": [
    "# Actual Modelling: Iteratively Changing Model Bounds, Resetting Each Time\n",
    "\n",
    "* NB: def. *Shadow price* := change in objective func value per unit increase in the RHS of a constraint.\n",
    "* Introduce informative priors to all reactions with nonzero baseline fluxes (sigma = 0.1)\n",
    "* Introduce differential effects for affected reactions"
   ]
  },
  {
   "cell_type": "code",
   "execution_count": null,
   "metadata": {},
   "outputs": [],
   "source": [
    "model = cobra.io.read_sbml_model(fn_zgem2)\n",
    "model.objective =\"BIO_L_2\"\n",
    "\n",
    "# Assume all affected reactions have FC down, except CTPS1, R1351_r, INSTt2r, CTPS2\n",
    "fc_up_rxn_ls = [\"CTPS1\", \"R1351_r\", \"INSTt2r\", \"CTPS2\"]\n",
    "n_iter = 1000000\n",
    "\n",
    "# Set plot params\n",
    "path0 = \"/Users/don/Documents/mlardelli\"\n",
    "fn_out_pickle = path0+\"/data/mc_\"+str(int(n_iter/1000))+\"k.p\"\n",
    "fn_out_plots = path0+\"/plots/mc_\"+str(int(n_iter/1000))+\"k_v2.pdf\"\n",
    "\n",
    "\n",
    "# Start simulation\n",
    "ofv_ls = []\n",
    "super_contents = []\n",
    "for i in tqdm(range(n_iter)):\n",
    "    with model as model:\n",
    "        for rxn in model.reactions:\n",
    "            rxn_id =rxn.id\n",
    "            prior_mean = dv0_dict[rxn_id]\n",
    "\n",
    "            if rxn_id in affected_rxn_ls2:\n",
    "                # set an informative prior that approximates DE\n",
    "                u = np.random.rand() # u ~ U(0,1)\n",
    "\n",
    "                # Multiplier to incrase or decrease bounds, based on fold change\n",
    "                multiplier = 1.0\n",
    "                if rxn_id in fc_up_rxn_ls:\n",
    "                    multiplier = 1.0 + u\n",
    "                else:\n",
    "                    multiplier = u\n",
    "\n",
    "                if prior_mean > 0:\n",
    "                    rxn.upper_bound = prior_mean * multiplier\n",
    "                elif prior_mean < 0:\n",
    "                    rxn.lower_bound = prior_mean * multiplier\n",
    "\n",
    "            else:\n",
    "                #z = abs(np.random.normal())\n",
    "                # Set absolute values for now, with no distro on unaffected reactions\n",
    "                if prior_mean > 0:\n",
    "                    rxn.upper_bound = prior_mean\n",
    "                elif prior_mean < 0:\n",
    "                    rxn.lower_bound = prior_mean\n",
    "                    \n",
    "        soln = model.optimize()\n",
    "        dv_t = soln.to_frame().reset_index().rename(columns={\"index\":\"rxn_id\", \"fluxes\":\"fluxes_\"+str(i)})\n",
    "    super_contents.append(dv_t)"
   ]
  },
  {
   "cell_type": "code",
   "execution_count": null,
   "metadata": {},
   "outputs": [],
   "source": [
    "# Save supercontents\n",
    "pickle.dump(super_contents, open(fn_out_pickle, \"wb\" ) )"
   ]
  },
  {
   "cell_type": "markdown",
   "metadata": {},
   "source": [
    "# Post-process simulation output"
   ]
  },
  {
   "cell_type": "code",
   "execution_count": null,
   "metadata": {},
   "outputs": [],
   "source": [
    "# Init rxn_flux_vals_dict{}\n",
    "# to be used in plotting\n",
    "rxn_flux_vals_dict = {}\n",
    "for rxn_id in affected_rxn_ls2:\n",
    "    rxn_flux_vals_dict[rxn_id] = []\n",
    "\n",
    "idx = 0\n",
    "for df in tqdm(super_contents):\n",
    "    for rxn_id in affected_rxn_ls2:\n",
    "        flux_val = df.loc[df[\"rxn_id\"]==rxn_id][\"fluxes_\"+str(idx)].values[0]\n",
    "        rxn_flux_vals_dict[rxn_id].append(flux_val)\n",
    "    idx += 1"
   ]
  },
  {
   "cell_type": "code",
   "execution_count": null,
   "metadata": {},
   "outputs": [],
   "source": [
    "# plot\n",
    "num_rows = 7\n",
    "num_cols = 4\n",
    "affected_rxn_ls2.sort()\n",
    "\n",
    "fig, axarr = plt.subplots(num_rows, num_cols, figsize=(20, 2.4*num_rows), sharey=\"row\")\n",
    "\n",
    "idx = 0\n",
    "for i in np.arange(num_rows):\n",
    "    for j in np.arange(num_cols):\n",
    "        arr = rxn_flux_vals_dict[affected_rxn_ls2[idx]]\n",
    "        # Set colour\n",
    "        if arr == [0]*n_iter:\n",
    "            hist_colour = \"#9CD0FF\"\n",
    "        else:\n",
    "            hist_colour = \"#156AB7\"\n",
    "        \n",
    "        axarr[i, j].hist(arr, bins=40, color=hist_colour)\n",
    "        axarr[i, j].set_yscale('log')\n",
    "        axarr[i, j].set_title(affected_rxn_ls2[idx])\n",
    "        \n",
    "        idx +=1\n",
    "\n",
    "fig.subplots_adjust(wspace=0, hspace=0.35)\n",
    "\n",
    "plt.savefig(fn_out_plots, bbox_inches=\"tight\")"
   ]
  },
  {
   "cell_type": "code",
   "execution_count": null,
   "metadata": {},
   "outputs": [],
   "source": []
  }
 ],
 "metadata": {
  "kernelspec": {
   "display_name": "Python 3",
   "language": "python",
   "name": "python3"
  },
  "language_info": {
   "codemirror_mode": {
    "name": "ipython",
    "version": 3
   },
   "file_extension": ".py",
   "mimetype": "text/x-python",
   "name": "python",
   "nbconvert_exporter": "python",
   "pygments_lexer": "ipython3",
   "version": "3.7.4"
  }
 },
 "nbformat": 4,
 "nbformat_minor": 4
}
