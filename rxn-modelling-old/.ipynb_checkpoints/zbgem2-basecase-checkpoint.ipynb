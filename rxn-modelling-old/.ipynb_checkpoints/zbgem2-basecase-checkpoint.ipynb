{
 "cells": [
  {
   "cell_type": "code",
   "execution_count": 1,
   "metadata": {},
   "outputs": [
    {
     "name": "stderr",
     "output_type": "stream",
     "text": [
      "/Users/don/anaconda3/lib/python3.7/site-packages/statsmodels/tools/_testing.py:19: FutureWarning: pandas.util.testing is deprecated. Use the functions in the public API at pandas.testing instead.\n",
      "  import pandas.util.testing as tm\n"
     ]
    }
   ],
   "source": [
    "%matplotlib inline\n",
    "import matplotlib.pyplot as plt\n",
    "import seaborn as sns\n",
    "\n",
    "import numpy as np\n",
    "import pandas as pd\n",
    "\n",
    "import cobra\n",
    "import cobra.test\n",
    "from cobra.test import create_test_model\n",
    "from cobra.util.solver import linear_reaction_coefficients\n",
    "from cobra.flux_analysis import flux_variability_analysis\n",
    "\n",
    "import os\n",
    "import re\n",
    "from functools import reduce\n",
    "import itertools\n",
    "import time\n",
    "from tqdm import tqdm\n",
    "\n",
    "import cobrapy_func as cf\n"
   ]
  },
  {
   "cell_type": "code",
   "execution_count": 2,
   "metadata": {},
   "outputs": [
    {
     "name": "stdout",
     "output_type": "stream",
     "text": [
      "Loaded SBML file in 4.03s\n",
      "num reactions = 3023\n",
      "num metabs = 2810\n",
      "num genes = 1636\n",
      "num exchanges = 44\n",
      "\n",
      "Num. DE genes present in ZBGEM = 28\n",
      "28 reactions impacted by DE genes\n"
     ]
    }
   ],
   "source": [
    "# Load zbgem2 model\n",
    "t0 = time.time()\n",
    "fn_zgem2 = \"/Users/don/Documents/mlardelli/data/zebragem_20200228_mod.xml\"\n",
    "model = cobra.io.read_sbml_model(fn_zgem2)\n",
    "print(\"Loaded SBML file in %.2fs\" % (time.time() - t0))\n",
    "\n",
    "# Print stuff out\n",
    "print(f\"num reactions = {len(model.reactions)}\")\n",
    "print(f\"num metabs = {len(model.metabolites)}\")\n",
    "print(f\"num genes = {len(model.genes)}\")\n",
    "print(f\"num exchanges = {len(model.exchanges)}\")\n",
    "print(\"\")\n",
    "model.objective =\"BIO_L_2\"\n",
    "\n",
    "# Load DE genes\n",
    "d0 = pd.read_csv(\"/Users/don/Documents/mlardelli/data/de_genes.csv\")\n",
    "\n",
    "# For the genes in the DE list, get only those which are in ZBGEM\n",
    "zbgem_gene_ls = [g.id for g in model.genes]\n",
    "\n",
    "de_genes_ls = []\n",
    "for ncbi_id in list(d0[\"ncbi_id\"]):\n",
    "    if ncbi_id in zbgem_gene_ls:\n",
    "        de_genes_ls.append(ncbi_id)\n",
    "print(f\"Num. DE genes present in ZBGEM = {len(de_genes_ls)}\")\n",
    "\n",
    "de_df = d0.loc[d0[\"ncbi_id\"].isin(de_genes_ls)]\n",
    "\n",
    "# Get dict of reactions affected by DE genes, and a flat list\n",
    "rxn_dict = {}\n",
    "affected_rxn_ls = []\n",
    "for ncbi_id in de_genes_ls:\n",
    "    val_ls = [rxn.id for rxn in list(model.genes.get_by_id(ncbi_id).reactions)]\n",
    "    rxn_dict[ncbi_id] = val_ls\n",
    "    affected_rxn_ls.append(val_ls)\n",
    "affected_rxn_ls = list(set([item for sublist in affected_rxn_ls for item in sublist]))\n",
    "\n",
    "# Get affected reactions AFTER checking GPR, regardless of fold change direction\n",
    "affected_rxn_ls2 = []\n",
    "for rxn_id in affected_rxn_ls:\n",
    "    rxn = model.reactions.get_by_id(rxn_id)\n",
    "    gpr_str = rxn.gene_reaction_rule\n",
    "    \n",
    "    eval_bool = cf.eval_gpr(gpr_str, de_genes_ls)\n",
    "    if eval_bool:\n",
    "        affected_rxn_ls2.append(rxn_id)\n",
    "\n",
    "print(f\"{len(affected_rxn_ls2)} reactions impacted by DE genes\")"
   ]
  },
  {
   "cell_type": "code",
   "execution_count": 3,
   "metadata": {},
   "outputs": [],
   "source": [
    "rxn_ls = model.reactions\n",
    "\n"
   ]
  },
  {
   "cell_type": "code",
   "execution_count": 3,
   "metadata": {},
   "outputs": [],
   "source": [
    "# Get prior vals of each reaction flux from unconstrained optimization\n",
    "soln = model.optimize()\n",
    "dv = soln.to_frame().reset_index().rename(columns={\"index\":\"rxn_id\"})"
   ]
  },
  {
   "cell_type": "code",
   "execution_count": 4,
   "metadata": {},
   "outputs": [
    {
     "data": {
      "text/html": [
       "<div>\n",
       "<style scoped>\n",
       "    .dataframe tbody tr th:only-of-type {\n",
       "        vertical-align: middle;\n",
       "    }\n",
       "\n",
       "    .dataframe tbody tr th {\n",
       "        vertical-align: top;\n",
       "    }\n",
       "\n",
       "    .dataframe thead th {\n",
       "        text-align: right;\n",
       "    }\n",
       "</style>\n",
       "<table border=\"1\" class=\"dataframe\">\n",
       "  <thead>\n",
       "    <tr style=\"text-align: right;\">\n",
       "      <th></th>\n",
       "      <th>rxn_id</th>\n",
       "      <th>fluxes</th>\n",
       "      <th>reduced_costs</th>\n",
       "    </tr>\n",
       "  </thead>\n",
       "  <tbody>\n",
       "    <tr>\n",
       "      <th>0</th>\n",
       "      <td>BIO_L</td>\n",
       "      <td>0.000000e+00</td>\n",
       "      <td>-1.224663e+01</td>\n",
       "    </tr>\n",
       "    <tr>\n",
       "      <th>1</th>\n",
       "      <td>BIO_L_2</td>\n",
       "      <td>6.475720e+01</td>\n",
       "      <td>6.120972e-15</td>\n",
       "    </tr>\n",
       "    <tr>\n",
       "      <th>2</th>\n",
       "      <td>BIO_L_3</td>\n",
       "      <td>0.000000e+00</td>\n",
       "      <td>-1.342652e+01</td>\n",
       "    </tr>\n",
       "    <tr>\n",
       "      <th>3</th>\n",
       "      <td>R0_gl</td>\n",
       "      <td>0.000000e+00</td>\n",
       "      <td>0.000000e+00</td>\n",
       "    </tr>\n",
       "    <tr>\n",
       "      <th>4</th>\n",
       "      <td>R1_pr</td>\n",
       "      <td>0.000000e+00</td>\n",
       "      <td>0.000000e+00</td>\n",
       "    </tr>\n",
       "    <tr>\n",
       "      <th>...</th>\n",
       "      <td>...</td>\n",
       "      <td>...</td>\n",
       "      <td>...</td>\n",
       "    </tr>\n",
       "    <tr>\n",
       "      <th>3018</th>\n",
       "      <td>FAt</td>\n",
       "      <td>1.319526e+01</td>\n",
       "      <td>0.000000e+00</td>\n",
       "    </tr>\n",
       "    <tr>\n",
       "      <th>3019</th>\n",
       "      <td>SK_lac__L_e</td>\n",
       "      <td>9.174593e+02</td>\n",
       "      <td>0.000000e+00</td>\n",
       "    </tr>\n",
       "    <tr>\n",
       "      <th>3020</th>\n",
       "      <td>FADtm</td>\n",
       "      <td>-4.352074e-14</td>\n",
       "      <td>0.000000e+00</td>\n",
       "    </tr>\n",
       "    <tr>\n",
       "      <th>3021</th>\n",
       "      <td>FE3R2e</td>\n",
       "      <td>0.000000e+00</td>\n",
       "      <td>0.000000e+00</td>\n",
       "    </tr>\n",
       "    <tr>\n",
       "      <th>3022</th>\n",
       "      <td>HMGCOAtm</td>\n",
       "      <td>-2.841477e+00</td>\n",
       "      <td>-0.000000e+00</td>\n",
       "    </tr>\n",
       "  </tbody>\n",
       "</table>\n",
       "<p>3023 rows × 3 columns</p>\n",
       "</div>"
      ],
      "text/plain": [
       "           rxn_id        fluxes  reduced_costs\n",
       "0           BIO_L  0.000000e+00  -1.224663e+01\n",
       "1         BIO_L_2  6.475720e+01   6.120972e-15\n",
       "2         BIO_L_3  0.000000e+00  -1.342652e+01\n",
       "3           R0_gl  0.000000e+00   0.000000e+00\n",
       "4           R1_pr  0.000000e+00   0.000000e+00\n",
       "...           ...           ...            ...\n",
       "3018          FAt  1.319526e+01   0.000000e+00\n",
       "3019  SK_lac__L_e  9.174593e+02   0.000000e+00\n",
       "3020        FADtm -4.352074e-14   0.000000e+00\n",
       "3021       FE3R2e  0.000000e+00   0.000000e+00\n",
       "3022     HMGCOAtm -2.841477e+00  -0.000000e+00\n",
       "\n",
       "[3023 rows x 3 columns]"
      ]
     },
     "execution_count": 4,
     "metadata": {},
     "output_type": "execute_result"
    }
   ],
   "source": [
    "dv"
   ]
  },
  {
   "cell_type": "code",
   "execution_count": 6,
   "metadata": {},
   "outputs": [
    {
     "name": "stderr",
     "output_type": "stream",
     "text": [
      "100%|██████████| 1/1 [00:00<00:00,  3.03it/s]\n"
     ]
    }
   ],
   "source": [
    "n_iter = 1\n",
    "multiplier = 0.1\n",
    "my_limit = 100\n",
    "\n",
    "ofv_ls = []\n",
    "for i in tqdm(range(n_iter)):\n",
    "    with model as model:\n",
    "        for rxn in model.reactions:\n",
    "            #rand_draw = abs(np.random.normal(1, 1)) #N(0, 1)\n",
    "            rand_draw = 1\n",
    "            \n",
    "            old_upper_val = rxn.upper_bound\n",
    "            rxn.upper_bound = old_upper_val * multiplier * rand_draw\n",
    "            old_lower_val = rxn.lower_bound\n",
    "            rxn.lower_bound = old_lower_val * multiplier * rand_draw\n",
    "            \n",
    "            #old_upper_val = rxn.upper_bound\n",
    "            #rxn.upper_bound = old_upper_val * multiplier\n",
    "            #old_lower_val = rxn.lower_bound\n",
    "            #rxn.lower_bound = old_lower_val * multiplier\n",
    "            \n",
    "        soln_scaled = model.optimize()"
   ]
  },
  {
   "cell_type": "code",
   "execution_count": 7,
   "metadata": {},
   "outputs": [
    {
     "name": "stdout",
     "output_type": "stream",
     "text": [
      "3SALAASPm 0.0\n",
      "R1174_m -11.224420855567136\n",
      "AKGDm 0.0\n",
      "NAt3_1g 0.0\n",
      "CTPS2 0.0\n",
      "R2127_r 0.0\n",
      "NDP3l 0.0\n",
      "INSTt2r 0.0\n",
      "CTPS1 0.31392994846057615\n",
      "R1047_g 0.0\n",
      "R1351_r 0.0\n",
      "ASNTRSm 0.0\n",
      "NDP10l 0.0\n",
      "2OXOADOXm 0.0\n",
      "ATPtm 44.61667872266769\n",
      "CAMPt 0.0\n",
      "PI34P4Plm 0.0\n",
      "ASPGLUm -61.41987046017828\n",
      "R1175_m 0.0\n",
      "G3PATrm 2.5821033463048955\n",
      "R249_mc 0.0\n",
      "MI34PP 0.0\n",
      "MAN6PI 0.0\n",
      "CITt4_4 0.0\n",
      "ACYP_2 0.0\n",
      "SFGTH 0.0\n",
      "NDP7l 0.0\n",
      "CGMPt 0.0\n"
     ]
    }
   ],
   "source": [
    "for rxn_id in affected_rxn_ls2:\n",
    "    print(rxn_id, soln_scaled[rxn_id])"
   ]
  },
  {
   "cell_type": "code",
   "execution_count": 9,
   "metadata": {},
   "outputs": [
    {
     "data": {
      "text/plain": [
       "frozenset({<Gene 337675 at 0x7fce6a69b590>})"
      ]
     },
     "execution_count": 9,
     "metadata": {},
     "output_type": "execute_result"
    }
   ],
   "source": [
    "model.reactions.get_by_id(\"ASPGLUm\").genes"
   ]
  },
  {
   "cell_type": "code",
   "execution_count": null,
   "metadata": {},
   "outputs": [],
   "source": []
  }
 ],
 "metadata": {
  "kernelspec": {
   "display_name": "Python 3",
   "language": "python",
   "name": "python3"
  },
  "language_info": {
   "codemirror_mode": {
    "name": "ipython",
    "version": 3
   },
   "file_extension": ".py",
   "mimetype": "text/x-python",
   "name": "python",
   "nbconvert_exporter": "python",
   "pygments_lexer": "ipython3",
   "version": "3.7.4"
  }
 },
 "nbformat": 4,
 "nbformat_minor": 4
}
